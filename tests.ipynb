{
 "cells": [
  {
   "cell_type": "code",
   "execution_count": 2,
   "metadata": {},
   "outputs": [
    {
     "data": {
      "text/plain": [
       "'NVIDIA GeForce RTX 3090'"
      ]
     },
     "execution_count": 2,
     "metadata": {},
     "output_type": "execute_result"
    }
   ],
   "source": [
    "# Edgar new data Jan 2024\n",
    "\n",
    "import numpy as np\n",
    "import matplotlib.pyplot as plt\n",
    "from tqdm import tqdm\n",
    "import pickle\n",
    "\n",
    "import torch\n",
    "import torch.nn.functional as F\n",
    "from torch.utils.data import DataLoader\n",
    "from models import *\n",
    "from utils import *\n",
    "\n",
    "seed = 2468\n",
    "np.random.seed(seed)\n",
    "torch.manual_seed(seed)\n",
    "\n",
    "device = torch.device('cuda' if torch.cuda.is_available() else 'cpu')\n",
    "torch.cuda.get_device_name()"
   ]
  },
  {
   "cell_type": "code",
   "execution_count": 3,
   "metadata": {},
   "outputs": [],
   "source": [
    "'''\n",
    "The imaging is still at 30hz.\n",
    "The ephys is binarized in 1ms bins.\n",
    "The speed has corresponding triggers in imaging and ephys.\n",
    "I.e. for every entry in the speed file, there is a corresponding imaging frame or ephys bin at the given index.\n",
    "There are files for baseline and for stimulation. In each case, the imaging ROIs and the ephys units are matched.\n",
    "I.e. index 1 in baseline imaging is the same cell as index 1 is stim imaging.\n",
    "\n",
    "Please see if this format works for you. Let me know if you want me to downsample all of them to the same frame rate (30Hz) instead if that is easier for you. If this runs ok, then I can run another 1-2 mice through which should put us at 3-4 animals. I will work on getting the combinatorial paradigm in place as well, but it is a little bit complicated right now.\n",
    "'''\n",
    "area_ID_ephys = np.load('./data/biological/EB095/area_ID_ephys.npy')        # (106,) 8 LS, 70 ACC\n",
    "dff_run = np.load('./data/biological/EB095/dff_run.npy')                    # (294, 33897) GCaMP when running\n",
    "dff_stim = np.load('./data/biological/EB095/dff_stim.npy')                  # (294, 111810) GCaMP when stimulated \n",
    "speed_run = np.load('./data/biological/EB095/speed_run.npy')                # (56302,) max 13\n",
    "speed_triggers_ephys_run = np.load('./data/biological/EB095/speed_triggers_ephys_run.npy')  # (56322)\n",
    "speed_triggers_img_run = np.load('./data/biological/EB095/speed_triggers_img_run.npy')      # (56322)\n",
    "spks_run = np.load('./data/biological/EB095/spks_run.npy')                  # (106, 1188000)\n",
    "spks_stim = np.load('./data/biological/EB095/spks_stim.npy')                # (106, 3799862)\n",
    "stim_ID = np.load('./data/biological/EB095/stim_ID.npy')                    # (300,), R S or F\n",
    "stim_triggers_ephys_stim = np.load('./data/biological/EB095/stim_triggers_ephys_stim.npy')  # (300,)\n",
    "stim_triggers_img_stim = np.load('./data/biological/EB095/stim_triggers_img_stim.npy')      # (300,)"
   ]
  },
  {
   "cell_type": "code",
   "execution_count": 30,
   "metadata": {},
   "outputs": [
    {
     "data": {
      "text/plain": [
       "(300,)"
      ]
     },
     "execution_count": 30,
     "metadata": {},
     "output_type": "execute_result"
    }
   ],
   "source": [
    "stim_triggers_img_stim.shape"
   ]
  },
  {
   "cell_type": "code",
   "execution_count": 11,
   "metadata": {},
   "outputs": [
    {
     "data": {
      "text/plain": [
       "array([[-0.6598973 , -0.6166973 , -0.65530443, ..., -0.11214162,\n",
       "         0.04662038,  0.00363585],\n",
       "       [-0.3896974 , -0.18176754, -0.1064564 , ...,  0.9388432 ,\n",
       "         0.6407711 ,  0.698943  ],\n",
       "       [-0.42538935, -0.17485873, -0.4136891 , ..., -0.46224406,\n",
       "        -0.77286345, -0.41269392],\n",
       "       ...,\n",
       "       [ 0.10833173,  0.13835469, -0.3402042 , ..., -0.12500976,\n",
       "        -0.27234876, -0.0389387 ],\n",
       "       [-0.08861481,  0.00205525, -0.229356  , ...,  0.4956022 ,\n",
       "        -0.07777516, -0.13160245],\n",
       "       [-0.21916537, -0.12675968, -0.24422294, ..., -0.16883187,\n",
       "        -0.39703175, -0.05783821]], dtype=float32)"
      ]
     },
     "execution_count": 11,
     "metadata": {},
     "output_type": "execute_result"
    }
   ],
   "source": [
    "dff_run"
   ]
  },
  {
   "cell_type": "code",
   "execution_count": null,
   "metadata": {},
   "outputs": [],
   "source": []
  }
 ],
 "metadata": {
  "kernelspec": {
   "display_name": "pt-gpu",
   "language": "python",
   "name": "python3"
  },
  "language_info": {
   "codemirror_mode": {
    "name": "ipython",
    "version": 3
   },
   "file_extension": ".py",
   "mimetype": "text/x-python",
   "name": "python",
   "nbconvert_exporter": "python",
   "pygments_lexer": "ipython3",
   "version": "3.9.18"
  }
 },
 "nbformat": 4,
 "nbformat_minor": 2
}
