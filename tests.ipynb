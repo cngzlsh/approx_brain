{
 "cells": [
  {
   "cell_type": "code",
   "execution_count": 1,
   "metadata": {},
   "outputs": [
    {
     "data": {
      "text/plain": [
       "'NVIDIA GeForce RTX 3090'"
      ]
     },
     "execution_count": 1,
     "metadata": {},
     "output_type": "execute_result"
    }
   ],
   "source": [
    "# Edgar new data Jan 2024\n",
    "\n",
    "import numpy as np\n",
    "import matplotlib.pyplot as plt\n",
    "from tqdm import tqdm\n",
    "import pickle\n",
    "\n",
    "import torch\n",
    "import torch.nn.functional as F\n",
    "from torch.utils.data import DataLoader\n",
    "from models import *\n",
    "from utils import *\n",
    "\n",
    "seed = 2468\n",
    "np.random.seed(seed)\n",
    "torch.manual_seed(seed)\n",
    "\n",
    "device = torch.device('cuda' if torch.cuda.is_available() else 'cpu')\n",
    "torch.cuda.get_device_name()"
   ]
  },
  {
   "cell_type": "code",
   "execution_count": 3,
   "metadata": {},
   "outputs": [
    {
     "ename": "FileNotFoundError",
     "evalue": "[Errno 2] No such file or directory: './data/biological/EB095/speed_triggers_sphys_run.npy'",
     "output_type": "error",
     "traceback": [
      "\u001b[1;31m---------------------------------------------------------------------------\u001b[0m",
      "\u001b[1;31mFileNotFoundError\u001b[0m                         Traceback (most recent call last)",
      "\u001b[1;32mf:\\Daniel\\barry_lab\\approx_brain\\tests.ipynb Cell 2\u001b[0m line \u001b[0;36m1\n\u001b[0;32m     <a href='vscode-notebook-cell:/f%3A/Daniel/barry_lab/approx_brain/tests.ipynb#W1sZmlsZQ%3D%3D?line=12'>13</a>\u001b[0m dff_stim \u001b[39m=\u001b[39m np\u001b[39m.\u001b[39mload(\u001b[39m'\u001b[39m\u001b[39m./data/biological/EB095/dff_stim.npy\u001b[39m\u001b[39m'\u001b[39m)\n\u001b[0;32m     <a href='vscode-notebook-cell:/f%3A/Daniel/barry_lab/approx_brain/tests.ipynb#W1sZmlsZQ%3D%3D?line=13'>14</a>\u001b[0m speed_run \u001b[39m=\u001b[39m np\u001b[39m.\u001b[39mload(\u001b[39m'\u001b[39m\u001b[39m./data/biological/EB095/speed_run.npy\u001b[39m\u001b[39m'\u001b[39m)\n\u001b[1;32m---> <a href='vscode-notebook-cell:/f%3A/Daniel/barry_lab/approx_brain/tests.ipynb#W1sZmlsZQ%3D%3D?line=14'>15</a>\u001b[0m speed_triggers_ephys_run \u001b[39m=\u001b[39m np\u001b[39m.\u001b[39;49mload(\u001b[39m'\u001b[39;49m\u001b[39m./data/biological/EB095/speed_triggers_sphys_run.npy\u001b[39;49m\u001b[39m'\u001b[39;49m)\n",
      "File \u001b[1;32mc:\\Users\\daniel\\anaconda3\\envs\\pt-gpu\\lib\\site-packages\\numpy\\lib\\npyio.py:427\u001b[0m, in \u001b[0;36mload\u001b[1;34m(file, mmap_mode, allow_pickle, fix_imports, encoding, max_header_size)\u001b[0m\n\u001b[0;32m    425\u001b[0m     own_fid \u001b[39m=\u001b[39m \u001b[39mFalse\u001b[39;00m\n\u001b[0;32m    426\u001b[0m \u001b[39melse\u001b[39;00m:\n\u001b[1;32m--> 427\u001b[0m     fid \u001b[39m=\u001b[39m stack\u001b[39m.\u001b[39menter_context(\u001b[39mopen\u001b[39;49m(os_fspath(file), \u001b[39m\"\u001b[39;49m\u001b[39mrb\u001b[39;49m\u001b[39m\"\u001b[39;49m))\n\u001b[0;32m    428\u001b[0m     own_fid \u001b[39m=\u001b[39m \u001b[39mTrue\u001b[39;00m\n\u001b[0;32m    430\u001b[0m \u001b[39m# Code to distinguish from NumPy binary files and pickles.\u001b[39;00m\n",
      "\u001b[1;31mFileNotFoundError\u001b[0m: [Errno 2] No such file or directory: './data/biological/EB095/speed_triggers_sphys_run.npy'"
     ]
    }
   ],
   "source": [
    "'''\n",
    "The imaging is still at 30hz.\n",
    "The ephys is binarized in 1ms bins.\n",
    "The speed has corresponding triggers in imaging and ephys.\n",
    "I.e. for every entry in the speed file, there is a corresponding imaging frame or ephys bin at the given index.\n",
    "There are files for baseline and for stimulation. In each case, the imaging ROIs and the ephys units are matched.\n",
    "I.e. index 1 in baseline imaging is the same cell as index 1 is stim imaging.\n",
    "\n",
    "Please see if this format works for you. Let me know if you want me to downsample all of them to the same frame rate (30Hz) instead if that is easier for you. If this runs ok, then I can run another 1-2 mice through which should put us at 3-4 animals. I will work on getting the combinatorial paradigm in place as well, but it is a little bit complicated right now.\n",
    "'''\n",
    "area_ID_ephys = np.load('./data/biological/EB095/area_ID_ephys.npy')\n",
    "dff_run = np.load('./data/biological/EB095/dff_run.npy')\n",
    "dff_stim = np.load('./data/biological/EB095/dff_stim.npy')\n",
    "speed_run = np.load('./data/biological/EB095/speed_run.npy')\n",
    "speed_triggers_ephys_run = np.load('./data/biological/EB095/speed_triggers_ephys_run.npy')\n",
    "speed_triggers_img_run = np.load('./data/biological/EB095/speed_triggers_img_run.npy')"
   ]
  },
  {
   "cell_type": "code",
   "execution_count": null,
   "metadata": {},
   "outputs": [],
   "source": []
  }
 ],
 "metadata": {
  "kernelspec": {
   "display_name": "pt-gpu",
   "language": "python",
   "name": "python3"
  },
  "language_info": {
   "codemirror_mode": {
    "name": "ipython",
    "version": 3
   },
   "file_extension": ".py",
   "mimetype": "text/x-python",
   "name": "python",
   "nbconvert_exporter": "python",
   "pygments_lexer": "ipython3",
   "version": "3.9.18"
  }
 },
 "nbformat": 4,
 "nbformat_minor": 2
}
