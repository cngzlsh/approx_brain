{
 "cells": [
  {
   "cell_type": "code",
   "execution_count": 1,
   "metadata": {},
   "outputs": [
    {
     "data": {
      "text/plain": [
       "'NVIDIA GeForce RTX 3090'"
      ]
     },
     "execution_count": 1,
     "metadata": {},
     "output_type": "execute_result"
    }
   ],
   "source": [
    "# Edgar new data Jan 2024\n",
    "\n",
    "import numpy as np\n",
    "import matplotlib.pyplot as plt\n",
    "from tqdm import tqdm\n",
    "import pickle\n",
    "\n",
    "import torch\n",
    "import torch.nn.functional as F\n",
    "from torch.utils.data import DataLoader\n",
    "from models import *\n",
    "from utils import *\n",
    "\n",
    "seed = 2468\n",
    "np.random.seed(seed)\n",
    "torch.manual_seed(seed)\n",
    "\n",
    "device = torch.device('cuda' if torch.cuda.is_available() else 'cpu')\n",
    "torch.cuda.get_device_name()"
   ]
  },
  {
   "cell_type": "code",
   "execution_count": 2,
   "metadata": {},
   "outputs": [],
   "source": [
    "'''\n",
    "The imaging is still at 30hz.\n",
    "The ephys is binarized in 1ms bins.\n",
    "The speed has corresponding triggers in imaging and ephys.\n",
    "I.e. for every entry in the speed file, there is a corresponding imaging frame or ephys bin at the given index.\n",
    "There are files for baseline and for stimulation. In each case, the imaging ROIs and the ephys units are matched.\n",
    "I.e. index 1 in baseline imaging is the same cell as index 1 is stim imaging.\n",
    "\n",
    "Please see if this format works for you. Let me know if you want me to downsample all of them to the same frame rate (30Hz) instead if that is easier for you. If this runs ok, then I can run another 1-2 mice through which should put us at 3-4 animals. I will work on getting the combinatorial paradigm in place as well, but it is a little bit complicated right now.\n",
    "'''\n",
    "area_ID_ephys = np.load('./data/biological/EB095/area_ID_ephys.npy')        # (106,) 8 LS, 70 ACC\n",
    "dff_run = np.load('./data/biological/EB095/dff_run.npy')                    # (294, 33897) GCaMP when running\n",
    "dff_stim = np.load('./data/biological/EB095/dff_stim.npy')                  # (294, 111810) GCaMP when stimulated \n",
    "spks_run = np.load('./data/biological/EB095/spks_run.npy')                  # (106, 1188000)\n",
    "spks_stim = np.load('./data/biological/EB095/spks_stim.npy')                # (106, 3799862)\n",
    "speed_run = np.load('./data/biological/EB095/speed_run.npy')                # (56302,) max 13\n",
    "\n",
    "speed_triggers_ephys_run = np.load('./data/biological/EB095/speed_triggers_ephys_run.npy')  # (56322)\n",
    "speed_triggers_img_run = np.load('./data/biological/EB095/speed_triggers_img_run.npy')      # (56322)\n",
    "stim_ID = np.load('./data/biological/EB095/stim_ID.npy')                    # (300,), R S or F\n",
    "stim_triggers_ephys_stim = np.load('./data/biological/EB095/stim_triggers_ephys_stim.npy')  # (300,)\n",
    "stim_triggers_img_stim = np.load('./data/biological/EB095/stim_triggers_img_stim.npy')      # (300,)"
   ]
  },
  {
   "cell_type": "code",
   "execution_count": 6,
   "metadata": {},
   "outputs": [
    {
     "data": {
      "text/plain": [
       "array([3829245, 3849633, 3860027, 3870436, 3880863, 3891287, 3901697,\n",
       "       3912108, 3922512, 3932920, 3943333, 3953747, 3964160, 3974565,\n",
       "       3984968, 3995390, 4005802, 4016214, 4026632, 4037045, 4047435,\n",
       "       4057836, 4068243, 4078648, 4089053, 4099468, 4109885, 4120301,\n",
       "       4130714, 4141127, 4151513, 4161929, 4172346, 4182765, 4193179,\n",
       "       4203567, 4213959, 4224371, 4234793, 4245209, 4255613, 4266009,\n",
       "       4276404, 4286822, 4297219, 4307622, 4318006, 4328407, 4338818,\n",
       "       4349225, 4359649, 4370070, 4380462, 4390885, 4401275, 4411667,\n",
       "       4422076, 4432498, 4442902, 4453311, 4463735, 4474157, 4484580,\n",
       "       4494997, 4505413, 4515822, 4526241, 4536661, 4547068, 4557461,\n",
       "       4567875, 4578297, 4588716, 4599131, 4609551, 4619958, 4630374,\n",
       "       4640779, 4651190, 4661598, 4672017, 4682421, 4692814, 4703215,\n",
       "       4713620, 4724022, 4734440, 4744855, 4755269, 4775679, 4786087,\n",
       "       4796502, 4806909, 4817325, 4827732, 4838144, 4848549, 4858966,\n",
       "       4869377, 4879784, 4890190, 4900603, 4911003, 4921419, 4931820,\n",
       "       4942227, 4952628, 4963040, 4973436, 4983829, 4994243, 5004646,\n",
       "       5015058, 5025469, 5035884, 5046289, 5056691, 5067096, 5077506,\n",
       "       5087900, 5098315, 5108729, 5119121, 5129524, 5139936, 5150342,\n",
       "       5160751, 5171143, 5181555, 5191963, 5202379, 5212775, 5223186,\n",
       "       5233598, 5244002, 5254419, 5264825, 5275234, 5285628, 5296040,\n",
       "       5306455, 5316877, 5327300, 5337721, 5348136, 5358551, 5368951,\n",
       "       5379363, 5389786, 5400211, 5410628, 5421014, 5431427, 5441839,\n",
       "       5452240, 5462641, 5473033, 5483447, 5493841, 5504260, 5514676,\n",
       "       5525100, 5535519, 5545948, 5556369, 5566786, 5577203, 5587625,\n",
       "       5598040, 5608427, 5618834, 5629258, 5639671, 5650089, 5660495,\n",
       "       5670920, 5681337, 5691741, 5702157, 5712563, 5722982, 5733403,\n",
       "       5743827, 5754231, 5764631, 5775046, 5785466, 5795856, 5806254,\n",
       "       5816659, 5827075, 5837476, 5847889, 5858305, 5868706, 5879129,\n",
       "       5889543, 5899949, 5910348, 5920749, 5931171, 5941588, 5951975,\n",
       "       5962379, 5972799, 5983220, 5993624, 6004028, 6014412, 6024802,\n",
       "       6035216, 6045631, 6056028, 6066430, 6076833, 6087247, 6097638,\n",
       "       6108052, 6118435, 6128838, 6139230, 6149640, 6160026, 6170425,\n",
       "       6180816, 6191218, 6201622, 6212016, 6222422, 6232840, 6243259,\n",
       "       6253667, 6264050, 6274457, 6284879, 6295289, 6305686, 6316109,\n",
       "       6326534, 6336956, 6347347, 6357755, 6368178, 6378588, 6389010,\n",
       "       6399414, 6409840, 6420251, 6430670, 6441093, 6451519, 6461945,\n",
       "       6472372, 6482797, 6493228, 6503657, 6514047, 6524478, 6534885,\n",
       "       6545297, 6555709, 6566121, 6576531, 6586954, 6597384, 6607796,\n",
       "       6618222, 6628649, 6639078, 6649487, 6659910, 6670341, 6680766,\n",
       "       6691194, 6701611, 6712038, 6722450, 6732842, 6743253, 6753650,\n",
       "       6764040, 6774451, 6784858, 6795275, 6805676, 6816086, 6826506,\n",
       "       6836914, 6847323, 6857744, 6868151, 6878559, 6888953, 6899361,\n",
       "       6909771, 6920178, 6930596, 6941003, 6951416, 6961789], dtype=int64)"
      ]
     },
     "execution_count": 6,
     "metadata": {},
     "output_type": "execute_result"
    }
   ],
   "source": [
    "stim_triggers_ephys_stim"
   ]
  },
  {
   "cell_type": "markdown",
   "metadata": {},
   "source": [
    "Naive model fitting:\n",
    "Ignore running / stationary, fit model to both data."
   ]
  },
  {
   "cell_type": "code",
   "execution_count": 80,
   "metadata": {},
   "outputs": [],
   "source": [
    "from sklearn.linear_model import LinearRegression\n",
    "lm = LinearRegression()\n",
    "lm.fit(stim_triggers_img_stim[:,None],stim_triggers_ephys_stim[:,None])\n",
    "freq = lm.coef_[0][0] # * 1000 Hz\n",
    "intercept = lm.intercept_ # succeeding time"
   ]
  },
  {
   "cell_type": "code",
   "execution_count": 114,
   "metadata": {},
   "outputs": [],
   "source": [
    "n_bins = int(spks_stim.shape[1]/freq)\n",
    "\n",
    "spks_stim_30Hz = np.zeros((spks_stim.shape[0], n_bins)) # (106, 114141)\n",
    "# stim_triggers_ephys_stim_30Hz = np.array((stim_triggers_ephys_stim - intercept) / freq, dtype=np.int64)\n",
    "for n in range(n_bins):\n",
    "    spks_stim_30Hz[:,n] = np.sum(spks_stim[:, int(n*freq): int((n+1)*freq)], axis=1)"
   ]
  },
  {
   "cell_type": "code",
   "execution_count": null,
   "metadata": {},
   "outputs": [],
   "source": []
  }
 ],
 "metadata": {
  "kernelspec": {
   "display_name": "pt-gpu",
   "language": "python",
   "name": "python3"
  },
  "language_info": {
   "codemirror_mode": {
    "name": "ipython",
    "version": 3
   },
   "file_extension": ".py",
   "mimetype": "text/x-python",
   "name": "python",
   "nbconvert_exporter": "python",
   "pygments_lexer": "ipython3",
   "version": "3.9.18"
  }
 },
 "nbformat": 4,
 "nbformat_minor": 2
}
