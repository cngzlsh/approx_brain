{
 "cells": [
  {
   "cell_type": "code",
   "execution_count": 1,
   "metadata": {},
   "outputs": [
    {
     "name": "stdout",
     "output_type": "stream",
     "text": [
      "NVIDIA GeForce GTX TITAN X\n"
     ]
    }
   ],
   "source": [
    "# Edgar new data Jan 2024\n",
    "\n",
    "import numpy as np\n",
    "import matplotlib.pyplot as plt\n",
    "from tqdm import tqdm\n",
    "import pickle\n",
    "import pathlib\n",
    "from pathlib import Path\n",
    "\n",
    "import torch\n",
    "import torch.nn.functional as F\n",
    "from torch.utils.data import DataLoader\n",
    "from models import *\n",
    "from utils import *\n",
    "\n",
    "seed = 2468\n",
    "np.random.seed(seed)\n",
    "torch.manual_seed(seed)\n",
    "\n",
    "device = torch.device('cuda' if torch.cuda.is_available() else 'cpu')\n",
    "if torch.cuda.is_available():\n",
    "    print(torch.cuda.get_device_name())"
   ]
  },
  {
   "cell_type": "code",
   "execution_count": 2,
   "metadata": {},
   "outputs": [],
   "source": [
    "'''\n",
    "The imaging is still at 30hz.\n",
    "The ephys is binarized in 1ms bins.\n",
    "The speed has corresponding triggers in imaging and ephys.\n",
    "I.e. for every entry in the speed file, there is a corresponding imaging frame or ephys bin at the given index.\n",
    "There are files for baseline and for stimulation. In each case, the imaging ROIs and the ephys units are matched.\n",
    "I.e. index 1 in baseline imaging is the same cell as index 1 is stim imaging.\n",
    "\n",
    "Please see if this format works for you. Let me know if you want me to downsample all of them to the same frame rate (30Hz) instead if that is easier for you. If this runs ok, then I can run another 1-2 mice through which should put us at 3-4 animals. I will work on getting the combinatorial paradigm in place as well, but it is a little bit complicated right now.\n",
    "'''\n",
    "parent_path = Path('./data/biological/EB095/')\n",
    "stim_path = parent_path / \"EB095_stim/\"\n",
    "run_path = parent_path / \"EB095_run/\"\n",
    "save_path = Path('./save/trained_models/')\n",
    "\n",
    "area_ID_ephys = np.load(run_path / 'area_ID_ephys.npy')        # (106,) 8 LS, 70 ACC\n",
    "dff_run = np.load(run_path / 'dff_run.npy')                    # (294, 32727) GCaMP when running\n",
    "dff_stim = np.load(stim_path /'dff_stim.npy')                  # (294, 94696) GCaMP when stimulated \n",
    "spks_run = np.load(run_path / 'spks_run.npy')                  # (106, 32727)\n",
    "spks_stim = np.load(stim_path /'spks_stim.npy')                # (106, 94096)\n",
    "speed_run = np.load(run_path / 'speed_run.npy')                # (32727,) max 13\n",
    "\n",
    "# speed_triggers_ephys_run = np.load(run_path / 'speed_triggers_ephys_run.npy')  # (56322)\n",
    "# speed_triggers_img_run = np.load(run_path / 'speed_triggers_img_run.npy')      # (56322)\n",
    "stim_ID = np.load(stim_path /'stim_ID.npy')\n",
    "stim_ID_resolved = np.load(stim_path /'stim_ID_resolved.npy')  # (300, 6), R S or F\n",
    "stim_time = np.load(stim_path /'stim_triggers.npy')            # (300, )"
   ]
  },
  {
   "cell_type": "code",
   "execution_count": null,
   "metadata": {},
   "outputs": [],
   "source": []
  }
 ],
 "metadata": {
  "kernelspec": {
   "display_name": "pytorch",
   "language": "python",
   "name": "python3"
  },
  "language_info": {
   "codemirror_mode": {
    "name": "ipython",
    "version": 3
   },
   "file_extension": ".py",
   "mimetype": "text/x-python",
   "name": "python",
   "nbconvert_exporter": "python",
   "pygments_lexer": "ipython3",
   "version": "3.9.0"
  }
 },
 "nbformat": 4,
 "nbformat_minor": 2
}
